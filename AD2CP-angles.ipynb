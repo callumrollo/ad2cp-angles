{
 "cells": [
  {
   "cell_type": "markdown",
   "id": "7ab04acb",
   "metadata": {},
   "source": [
    "# Calculations of beam angles, Nortek 1 MHz AD2CP Janus configuration"
   ]
  },
  {
   "cell_type": "markdown",
   "id": "b8778645",
   "metadata": {},
   "source": [
    "![Sensor head angles](adcp_angles.png)"
   ]
  },
  {
   "cell_type": "markdown",
   "id": "60d68168",
   "metadata": {},
   "source": [
    "Figure 1. Sensor geometry. (a) front view. (b) side view. Fore and aft heads offset 47.5 $^{\\circ}$ from vertical. Port and stbd heads offset at 25 $^{\\circ}$. Transducer heads as numbered in (c), head 1 toward glider nose."
   ]
  },
  {
   "cell_type": "markdown",
   "id": "ca5dc7a7",
   "metadata": {},
   "source": [
    "![Glider schematic](basic_glider.png)\n"
   ]
  },
  {
   "cell_type": "markdown",
   "id": "1821308c",
   "metadata": {},
   "source": [
    "Figure 2. The Nortek 1 MHz AD2CP is integrated into the rear aft fairing of the Seaglider, facing downward. Pitch, roll and heading angles are defined as are the glider coordinate system (X') and Earth coordinate system (X)\n",
    "\n",
    "When in flight, the glider uses three of the four transducers. It turns off the aft facing transducer during the descent and the fore facing transducer during the ascent.\n",
    "\n",
    "The goal is to pitch glider such that the three active transducers are at the same angle from the vertical, so that they use scatterers at the same depth. We define the following equations:"
   ]
  },
  {
   "cell_type": "code",
   "execution_count": 1,
   "id": "c01e64fc",
   "metadata": {},
   "outputs": [
    {
     "data": {
      "text/latex": [
       "\\begin{align}\n",
       "\\theta_1 &= \\arccos(\\cos(\\vartheta_{fa} - \\phi_{pitch}) \\cos(\\phi_{roll})) \\\\\n",
       "\\theta_2 &= \\arccos(\\cos(\\vartheta_{ps} - \\phi_{roll}) \\cos(\\phi_{pitch})) \\\\\n",
       "\\theta_3 &= \\arccos(\\cos(\\vartheta_{fa} + \\phi_{pitch}) \\cos(\\phi_{roll})) \\\\\n",
       "\\theta_4 &= \\arccos(\\cos(\\vartheta_{ps} + \\phi_{roll}) \\cos(\\phi_{pitch})) \n",
       "\\end{align}\n"
      ],
      "text/plain": [
       "<IPython.core.display.Latex object>"
      ]
     },
     "metadata": {},
     "output_type": "display_data"
    }
   ],
   "source": [
    "%%latex\n",
    "\\begin{align}\n",
    "\\theta_1 &= \\arccos(\\cos(\\vartheta_{fa} - \\phi_{pitch}) \\cos(\\phi_{roll})) \\\\\n",
    "\\theta_2 &= \\arccos(\\cos(\\vartheta_{ps} - \\phi_{roll}) \\cos(\\phi_{pitch})) \\\\\n",
    "\\theta_3 &= \\arccos(\\cos(\\vartheta_{fa} + \\phi_{pitch}) \\cos(\\phi_{roll})) \\\\\n",
    "\\theta_4 &= \\arccos(\\cos(\\vartheta_{ps} + \\phi_{roll}) \\cos(\\phi_{pitch})) \n",
    "\\end{align}"
   ]
  },
  {
   "cell_type": "markdown",
   "id": "c961f5eb",
   "metadata": {},
   "source": [
    "Where:\n",
    "\n",
    "$\\theta_x$ is the angle between beam $x$ and the vertical\n",
    "\n",
    "$\\vartheta_{fa}$ is the angle of the fore and aft beams from the vertical. Currently 47.5 $^{\\circ}$\n",
    "\n",
    "$\\vartheta_{ps}$ is the angle of the port and starboard beams from the vertical. Currently 25 $^{\\circ}$\n",
    "\n",
    "$\\phi_{roll}$ and $\\phi_{pitch}$ are roll and pitch of the glider"
   ]
  },
  {
   "cell_type": "markdown",
   "id": "21b9ee1f",
   "metadata": {},
   "source": [
    "This equation set can be formulated as a Python function. Printed angles are rounded to 3 decimal places for readability"
   ]
  },
  {
   "cell_type": "code",
   "execution_count": 2,
   "id": "feebb7ac",
   "metadata": {},
   "outputs": [],
   "source": [
    "import numpy as np\n",
    "def angle_from_vertical(fore_aft_angle=47.5, port_starboard_angle=25,\n",
    "                        pitch=0, roll=0):\n",
    "    \"\"\"Calculate angles from vertical of the four beams of a Nortek\n",
    "    AD2CP in Janus configuration.\n",
    "    Angles supplied and returned are all in degrees.\"\"\"\n",
    "    phi_pitch = np.deg2rad(pitch)\n",
    "    phi_roll = np.deg2rad(roll)\n",
    "    angle_fa = np.deg2rad(fore_aft_angle)\n",
    "    angle_ps = np.deg2rad(port_starboard_angle)\n",
    "    theta_1 = np.rad2deg(np.arccos(\n",
    "        np.cos(angle_fa - phi_pitch) * np.cos(phi_roll)))\n",
    "    theta_2 = np.rad2deg(np.arccos(\n",
    "        np.cos(angle_ps - phi_roll) * np.cos(phi_pitch)))\n",
    "    theta_3 = np.rad2deg(np.arccos(\n",
    "        np.cos(angle_fa + phi_pitch) * np.cos(phi_roll)))\n",
    "    theta_4 = np.rad2deg(np.arccos(\n",
    "        np.cos(angle_ps + phi_roll) * np.cos(phi_pitch)))\n",
    "    print(f\"fore angle: {theta_1:.3f}\\n\"\n",
    "          f\"port angle: {theta_2:.3f}\\n\"\n",
    "          f\"aft angle: {theta_3:.3f}\\n\"\n",
    "          f\"stbd angle: {theta_4:.3f}\")\n",
    "    return theta_1, theta_2, theta_3, theta_4"
   ]
  },
  {
   "cell_type": "markdown",
   "id": "91605f62",
   "metadata": {},
   "source": [
    "# Original configuration"
   ]
  },
  {
   "cell_type": "markdown",
   "id": "899077dd",
   "metadata": {},
   "source": [
    "When the glider is flat, angles from vertical are simply the angles represented in the above figure"
   ]
  },
  {
   "cell_type": "code",
   "execution_count": 3,
   "id": "c76c7a33",
   "metadata": {},
   "outputs": [
    {
     "name": "stdout",
     "output_type": "stream",
     "text": [
      "fore angle: 47.500\n",
      "port angle: 25.000\n",
      "aft angle: 47.500\n",
      "stbd angle: 25.000\n"
     ]
    }
   ],
   "source": [
    "angle_from_vertical();"
   ]
  },
  {
   "cell_type": "markdown",
   "id": "fb3d900d",
   "metadata": {},
   "source": [
    "When pitched at 17.4 degrees up or down and rolled flat, the three active beams are at 30.1 degrees from the vertical. When descending (pitch +ve) the aft beam is not used, when ascending (pitch -ve) the forward beam is not used."
   ]
  },
  {
   "cell_type": "code",
   "execution_count": 4,
   "id": "21f50d01",
   "metadata": {},
   "outputs": [
    {
     "name": "stdout",
     "output_type": "stream",
     "text": [
      "fore angle: 30.100\n",
      "port angle: 30.136\n",
      "aft angle: 64.900\n",
      "stbd angle: 30.136\n"
     ]
    }
   ],
   "source": [
    "angle_from_vertical(pitch=17.4);"
   ]
  },
  {
   "cell_type": "code",
   "execution_count": 5,
   "id": "47e57349",
   "metadata": {},
   "outputs": [
    {
     "name": "stdout",
     "output_type": "stream",
     "text": [
      "fore angle: 64.900\n",
      "port angle: 30.136\n",
      "aft angle: 30.100\n",
      "stbd angle: 30.136\n"
     ]
    }
   ],
   "source": [
    "angle_from_vertical(pitch=-17.4);"
   ]
  },
  {
   "cell_type": "markdown",
   "id": "89b3a1c0",
   "metadata": {},
   "source": [
    "![Glider schematic](glider_theta_origin.png)"
   ]
  },
  {
   "cell_type": "markdown",
   "id": "f049b11c",
   "metadata": {},
   "source": [
    "Figure 3. An illustration of the beam angles while the glider diving pitched at 17.4 $^{\\circ}$ and rolled flat. $\\theta_1 \\approx \\theta_2 \\approx  \\theta_4 \\approx 30.1\\ ^{\\circ}$"
   ]
  },
  {
   "cell_type": "markdown",
   "id": "d8d621b5",
   "metadata": {},
   "source": [
    "# Modified angles\n",
    "\n",
    "The designed dive angle of 17.4 $^{\\circ}$ is not ideal for gliders. Seagliders do not like diving at 17.4 (Callum Rollo, 2021, personal experience ). The Sea Explorer equipped with an AD2CP is instructed to dive at $\\approx 22\\ ^{\\circ}$, resulting in misaligned beams and suboptimal sampling (Bastien Queste, 2021, personal communication)\n",
    "\n",
    "Increasing the offset of the foreward and aft transducers to 54.8 $^{\\circ}$ would result in a ideal pitch angle of 22 $^{\\circ}$"
   ]
  },
  {
   "cell_type": "code",
   "execution_count": 6,
   "id": "cf79bada",
   "metadata": {},
   "outputs": [
    {
     "name": "stdout",
     "output_type": "stream",
     "text": [
      "fore angle: 32.800\n",
      "port angle: 32.827\n",
      "aft angle: 76.800\n",
      "stbd angle: 32.827\n"
     ]
    }
   ],
   "source": [
    "angle_from_vertical(pitch=22, fore_aft_angle=54.8);"
   ]
  },
  {
   "cell_type": "markdown",
   "id": "fc145f87",
   "metadata": {},
   "source": [
    "This could equally be achieved by decreasing the offset of the port and starboard transducers to 13.2 $^{\\circ}$"
   ]
  },
  {
   "cell_type": "code",
   "execution_count": 7,
   "id": "c8c24643",
   "metadata": {},
   "outputs": [
    {
     "name": "stdout",
     "output_type": "stream",
     "text": [
      "fore angle: 25.500\n",
      "port angle: 25.487\n",
      "aft angle: 69.500\n",
      "stbd angle: 25.487\n"
     ]
    }
   ],
   "source": [
    "angle_from_vertical(pitch=22, port_starboard_angle=13.2);"
   ]
  },
  {
   "cell_type": "markdown",
   "id": "2aaae397",
   "metadata": {},
   "source": [
    "The changes to beam spread of these physical modifications would be modest. Increasing beam spread by 2.7 $^{\\circ}$ in the former case and decreasing it by 4.5 $^{\\circ}$ in the latter. If changing the beam spread is an issue, it is possible to take a combined approach, steepening both sets of angles to preserve the beam spread of 30.1 $^{\\circ}$ while giving an optimal pitch angle of 22 $^{\\circ}$"
   ]
  },
  {
   "cell_type": "code",
   "execution_count": 8,
   "id": "c9e5561d",
   "metadata": {},
   "outputs": [
    {
     "name": "stdout",
     "output_type": "stream",
     "text": [
      "fore angle: 30.100\n",
      "port angle: 30.115\n",
      "aft angle: 74.100\n",
      "stbd angle: 30.115\n"
     ]
    }
   ],
   "source": [
    "angle_from_vertical(pitch=22, port_starboard_angle=21.1, fore_aft_angle=52.1);"
   ]
  },
  {
   "cell_type": "markdown",
   "id": "0237ed30",
   "metadata": {},
   "source": [
    "This change in optimal pitch angle would improve pilotability of AD2CP gliders and the quality of velocity data collected."
   ]
  }
 ],
 "metadata": {
  "kernelspec": {
   "display_name": "Python 3",
   "language": "python",
   "name": "python3"
  },
  "language_info": {
   "codemirror_mode": {
    "name": "ipython",
    "version": 3
   },
   "file_extension": ".py",
   "mimetype": "text/x-python",
   "name": "python",
   "nbconvert_exporter": "python",
   "pygments_lexer": "ipython3",
   "version": "3.9.7"
  }
 },
 "nbformat": 4,
 "nbformat_minor": 5
}
